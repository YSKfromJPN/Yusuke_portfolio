{
 "cells": [
  {
   "cell_type": "markdown",
   "id": "9860c908",
   "metadata": {},
   "source": [
    "# Introduction"
   ]
  },
  {
   "cell_type": "markdown",
   "id": "248b5f27",
   "metadata": {},
   "source": [
    "The Telco customer churn dataset a hypothetical telecommunications company that provides home phone and internet services to 7,043 customers in California during the third quarter. The dataset indicates which customers have departed from the services, which have remained, and which have newly subscribed.\n",
    "\n",
    "▼The aim of this project:\n",
    "predict whether a customer is likely to churn based on various factors related to their engagement with the company's services. This predictive capability will enable the company to proactively identify and address customer concerns, leading to improved customer retention rates and more informed business decisions.\n",
    "\n",
    "▼The flow of the analysis\n",
    "1. Data exploration and visualization\n",
    "2. Data handling\n",
    "3. "
   ]
  },
  {
   "cell_type": "markdown",
   "id": "3d12aa0b",
   "metadata": {},
   "source": [
    "# About the dataset\n",
    "\n",
    "The dataset we are working with contains information about 7,043 customers of a telecommunications company based in California. The dataset comprises 21 variables, each capturing different aspects of customer behavior and demographics.\n",
    "\n",
    "Variables\n",
    "\n",
    "- CustomerId: Customer's ID\n",
    "- Gender: Gender of the customer\n",
    "- SeniorCitizen: Whether the customer is a senior citizen (1) or not (0)\n",
    "- Partner: Whether the customer has a partner (Yes or No)\n",
    "- Dependents: Whether the customer has dependents (Yes or No)\n",
    "- Tenure: Number of months the customer has stayed with the company\n",
    "- PhoneService: Whether the customer has phone service (Yes or No)\n",
    "- MultipleLines: Whether the customer has multiple lines (Yes, No, or No phone service)\n",
    "- InternetService: Type of internet service (DSL, Fiber optic, or No)\n",
    "- OnlineSecurity: Whether the customer has online security (Yes, No, or No internet service)\n",
    "- OnlineBackup: Whether the customer has online backup (Yes, No, or No internet service)\n",
    "- DeviceProtection: Whether the customer has device protection (Yes, No, or No internet service)\n",
    "- TechSupport: Whether the customer has tech support (Yes, No, or No internet service)\n",
    "- StreamingTV: Whether the customer has streaming TV (Yes, No, or No internet service)\n",
    "- StreamingMovies: Whether the customer has streaming movies (Yes, No, or No internet service)\n",
    "- Contract: Type of contract (Month-to-month, One year, Two year)\n",
    "- PaperlessBilling: Whether the customer has paperless billing (Yes or No)\n",
    "- PaymentMethod: Payment method (Electronic check, Mailed check, Bank transfer, Credit card)\n",
    "- MonthlyCharges: Monthly charges paid by the customer\n",
    "- TotalCharges: Total charges paid by the customer\n",
    "- Churn: Whether the customer has churned (Yes or No)\n"
   ]
  },
  {
   "cell_type": "code",
   "execution_count": 1,
   "id": "0f78e22e",
   "metadata": {},
   "outputs": [
    {
     "data": {
      "text/html": [
       "<div>\n",
       "<style scoped>\n",
       "    .dataframe tbody tr th:only-of-type {\n",
       "        vertical-align: middle;\n",
       "    }\n",
       "\n",
       "    .dataframe tbody tr th {\n",
       "        vertical-align: top;\n",
       "    }\n",
       "\n",
       "    .dataframe thead th {\n",
       "        text-align: right;\n",
       "    }\n",
       "</style>\n",
       "<table border=\"1\" class=\"dataframe\">\n",
       "  <thead>\n",
       "    <tr style=\"text-align: right;\">\n",
       "      <th></th>\n",
       "      <th>customerID</th>\n",
       "      <th>gender</th>\n",
       "      <th>SeniorCitizen</th>\n",
       "      <th>Partner</th>\n",
       "      <th>Dependents</th>\n",
       "      <th>tenure</th>\n",
       "      <th>PhoneService</th>\n",
       "      <th>MultipleLines</th>\n",
       "      <th>InternetService</th>\n",
       "      <th>OnlineSecurity</th>\n",
       "      <th>...</th>\n",
       "      <th>DeviceProtection</th>\n",
       "      <th>TechSupport</th>\n",
       "      <th>StreamingTV</th>\n",
       "      <th>StreamingMovies</th>\n",
       "      <th>Contract</th>\n",
       "      <th>PaperlessBilling</th>\n",
       "      <th>PaymentMethod</th>\n",
       "      <th>MonthlyCharges</th>\n",
       "      <th>TotalCharges</th>\n",
       "      <th>Churn</th>\n",
       "    </tr>\n",
       "  </thead>\n",
       "  <tbody>\n",
       "    <tr>\n",
       "      <th>0</th>\n",
       "      <td>7590-VHVEG</td>\n",
       "      <td>Female</td>\n",
       "      <td>0</td>\n",
       "      <td>Yes</td>\n",
       "      <td>No</td>\n",
       "      <td>1</td>\n",
       "      <td>No</td>\n",
       "      <td>No phone service</td>\n",
       "      <td>DSL</td>\n",
       "      <td>No</td>\n",
       "      <td>...</td>\n",
       "      <td>No</td>\n",
       "      <td>No</td>\n",
       "      <td>No</td>\n",
       "      <td>No</td>\n",
       "      <td>Month-to-month</td>\n",
       "      <td>Yes</td>\n",
       "      <td>Electronic check</td>\n",
       "      <td>29.85</td>\n",
       "      <td>29.85</td>\n",
       "      <td>No</td>\n",
       "    </tr>\n",
       "    <tr>\n",
       "      <th>1</th>\n",
       "      <td>5575-GNVDE</td>\n",
       "      <td>Male</td>\n",
       "      <td>0</td>\n",
       "      <td>No</td>\n",
       "      <td>No</td>\n",
       "      <td>34</td>\n",
       "      <td>Yes</td>\n",
       "      <td>No</td>\n",
       "      <td>DSL</td>\n",
       "      <td>Yes</td>\n",
       "      <td>...</td>\n",
       "      <td>Yes</td>\n",
       "      <td>No</td>\n",
       "      <td>No</td>\n",
       "      <td>No</td>\n",
       "      <td>One year</td>\n",
       "      <td>No</td>\n",
       "      <td>Mailed check</td>\n",
       "      <td>56.95</td>\n",
       "      <td>1889.5</td>\n",
       "      <td>No</td>\n",
       "    </tr>\n",
       "    <tr>\n",
       "      <th>2</th>\n",
       "      <td>3668-QPYBK</td>\n",
       "      <td>Male</td>\n",
       "      <td>0</td>\n",
       "      <td>No</td>\n",
       "      <td>No</td>\n",
       "      <td>2</td>\n",
       "      <td>Yes</td>\n",
       "      <td>No</td>\n",
       "      <td>DSL</td>\n",
       "      <td>Yes</td>\n",
       "      <td>...</td>\n",
       "      <td>No</td>\n",
       "      <td>No</td>\n",
       "      <td>No</td>\n",
       "      <td>No</td>\n",
       "      <td>Month-to-month</td>\n",
       "      <td>Yes</td>\n",
       "      <td>Mailed check</td>\n",
       "      <td>53.85</td>\n",
       "      <td>108.15</td>\n",
       "      <td>Yes</td>\n",
       "    </tr>\n",
       "    <tr>\n",
       "      <th>3</th>\n",
       "      <td>7795-CFOCW</td>\n",
       "      <td>Male</td>\n",
       "      <td>0</td>\n",
       "      <td>No</td>\n",
       "      <td>No</td>\n",
       "      <td>45</td>\n",
       "      <td>No</td>\n",
       "      <td>No phone service</td>\n",
       "      <td>DSL</td>\n",
       "      <td>Yes</td>\n",
       "      <td>...</td>\n",
       "      <td>Yes</td>\n",
       "      <td>Yes</td>\n",
       "      <td>No</td>\n",
       "      <td>No</td>\n",
       "      <td>One year</td>\n",
       "      <td>No</td>\n",
       "      <td>Bank transfer (automatic)</td>\n",
       "      <td>42.30</td>\n",
       "      <td>1840.75</td>\n",
       "      <td>No</td>\n",
       "    </tr>\n",
       "    <tr>\n",
       "      <th>4</th>\n",
       "      <td>9237-HQITU</td>\n",
       "      <td>Female</td>\n",
       "      <td>0</td>\n",
       "      <td>No</td>\n",
       "      <td>No</td>\n",
       "      <td>2</td>\n",
       "      <td>Yes</td>\n",
       "      <td>No</td>\n",
       "      <td>Fiber optic</td>\n",
       "      <td>No</td>\n",
       "      <td>...</td>\n",
       "      <td>No</td>\n",
       "      <td>No</td>\n",
       "      <td>No</td>\n",
       "      <td>No</td>\n",
       "      <td>Month-to-month</td>\n",
       "      <td>Yes</td>\n",
       "      <td>Electronic check</td>\n",
       "      <td>70.70</td>\n",
       "      <td>151.65</td>\n",
       "      <td>Yes</td>\n",
       "    </tr>\n",
       "  </tbody>\n",
       "</table>\n",
       "<p>5 rows × 21 columns</p>\n",
       "</div>"
      ],
      "text/plain": [
       "   customerID  gender  SeniorCitizen Partner Dependents  tenure PhoneService  \\\n",
       "0  7590-VHVEG  Female              0     Yes         No       1           No   \n",
       "1  5575-GNVDE    Male              0      No         No      34          Yes   \n",
       "2  3668-QPYBK    Male              0      No         No       2          Yes   \n",
       "3  7795-CFOCW    Male              0      No         No      45           No   \n",
       "4  9237-HQITU  Female              0      No         No       2          Yes   \n",
       "\n",
       "      MultipleLines InternetService OnlineSecurity  ... DeviceProtection  \\\n",
       "0  No phone service             DSL             No  ...               No   \n",
       "1                No             DSL            Yes  ...              Yes   \n",
       "2                No             DSL            Yes  ...               No   \n",
       "3  No phone service             DSL            Yes  ...              Yes   \n",
       "4                No     Fiber optic             No  ...               No   \n",
       "\n",
       "  TechSupport StreamingTV StreamingMovies        Contract PaperlessBilling  \\\n",
       "0          No          No              No  Month-to-month              Yes   \n",
       "1          No          No              No        One year               No   \n",
       "2          No          No              No  Month-to-month              Yes   \n",
       "3         Yes          No              No        One year               No   \n",
       "4          No          No              No  Month-to-month              Yes   \n",
       "\n",
       "               PaymentMethod MonthlyCharges  TotalCharges Churn  \n",
       "0           Electronic check          29.85         29.85    No  \n",
       "1               Mailed check          56.95        1889.5    No  \n",
       "2               Mailed check          53.85        108.15   Yes  \n",
       "3  Bank transfer (automatic)          42.30       1840.75    No  \n",
       "4           Electronic check          70.70        151.65   Yes  \n",
       "\n",
       "[5 rows x 21 columns]"
      ]
     },
     "execution_count": 1,
     "metadata": {},
     "output_type": "execute_result"
    }
   ],
   "source": [
    "import pandas as pd\n",
    "\n",
    "data = pd.read_csv('Telco-Customer-Churn.csv')\n",
    "\n",
    "data.head(5)"
   ]
  },
  {
   "cell_type": "code",
   "execution_count": 2,
   "id": "1b42dd32",
   "metadata": {},
   "outputs": [
    {
     "name": "stdout",
     "output_type": "stream",
     "text": [
      "<class 'pandas.core.frame.DataFrame'>\n",
      "RangeIndex: 7043 entries, 0 to 7042\n",
      "Data columns (total 21 columns):\n",
      " #   Column            Non-Null Count  Dtype  \n",
      "---  ------            --------------  -----  \n",
      " 0   customerID        7043 non-null   object \n",
      " 1   gender            7043 non-null   object \n",
      " 2   SeniorCitizen     7043 non-null   int64  \n",
      " 3   Partner           7043 non-null   object \n",
      " 4   Dependents        7043 non-null   object \n",
      " 5   tenure            7043 non-null   int64  \n",
      " 6   PhoneService      7043 non-null   object \n",
      " 7   MultipleLines     7043 non-null   object \n",
      " 8   InternetService   7043 non-null   object \n",
      " 9   OnlineSecurity    7043 non-null   object \n",
      " 10  OnlineBackup      7043 non-null   object \n",
      " 11  DeviceProtection  7043 non-null   object \n",
      " 12  TechSupport       7043 non-null   object \n",
      " 13  StreamingTV       7043 non-null   object \n",
      " 14  StreamingMovies   7043 non-null   object \n",
      " 15  Contract          7043 non-null   object \n",
      " 16  PaperlessBilling  7043 non-null   object \n",
      " 17  PaymentMethod     7043 non-null   object \n",
      " 18  MonthlyCharges    7043 non-null   float64\n",
      " 19  TotalCharges      7043 non-null   object \n",
      " 20  Churn             7043 non-null   object \n",
      "dtypes: float64(1), int64(2), object(18)\n",
      "memory usage: 1.1+ MB\n"
     ]
    }
   ],
   "source": [
    "data.info()"
   ]
  },
  {
   "cell_type": "code",
   "execution_count": 5,
   "id": "2ec5dc00",
   "metadata": {},
   "outputs": [
    {
     "data": {
      "text/html": [
       "<div>\n",
       "<style scoped>\n",
       "    .dataframe tbody tr th:only-of-type {\n",
       "        vertical-align: middle;\n",
       "    }\n",
       "\n",
       "    .dataframe tbody tr th {\n",
       "        vertical-align: top;\n",
       "    }\n",
       "\n",
       "    .dataframe thead th {\n",
       "        text-align: right;\n",
       "    }\n",
       "</style>\n",
       "<table border=\"1\" class=\"dataframe\">\n",
       "  <thead>\n",
       "    <tr style=\"text-align: right;\">\n",
       "      <th></th>\n",
       "      <th>SeniorCitizen</th>\n",
       "      <th>tenure</th>\n",
       "      <th>MonthlyCharges</th>\n",
       "    </tr>\n",
       "  </thead>\n",
       "  <tbody>\n",
       "    <tr>\n",
       "      <th>count</th>\n",
       "      <td>7043.000000</td>\n",
       "      <td>7043.000000</td>\n",
       "      <td>7043.000000</td>\n",
       "    </tr>\n",
       "    <tr>\n",
       "      <th>mean</th>\n",
       "      <td>0.162147</td>\n",
       "      <td>32.371149</td>\n",
       "      <td>64.761692</td>\n",
       "    </tr>\n",
       "    <tr>\n",
       "      <th>std</th>\n",
       "      <td>0.368612</td>\n",
       "      <td>24.559481</td>\n",
       "      <td>30.090047</td>\n",
       "    </tr>\n",
       "    <tr>\n",
       "      <th>min</th>\n",
       "      <td>0.000000</td>\n",
       "      <td>0.000000</td>\n",
       "      <td>18.250000</td>\n",
       "    </tr>\n",
       "    <tr>\n",
       "      <th>25%</th>\n",
       "      <td>0.000000</td>\n",
       "      <td>9.000000</td>\n",
       "      <td>35.500000</td>\n",
       "    </tr>\n",
       "    <tr>\n",
       "      <th>50%</th>\n",
       "      <td>0.000000</td>\n",
       "      <td>29.000000</td>\n",
       "      <td>70.350000</td>\n",
       "    </tr>\n",
       "    <tr>\n",
       "      <th>75%</th>\n",
       "      <td>0.000000</td>\n",
       "      <td>55.000000</td>\n",
       "      <td>89.850000</td>\n",
       "    </tr>\n",
       "    <tr>\n",
       "      <th>max</th>\n",
       "      <td>1.000000</td>\n",
       "      <td>72.000000</td>\n",
       "      <td>118.750000</td>\n",
       "    </tr>\n",
       "  </tbody>\n",
       "</table>\n",
       "</div>"
      ],
      "text/plain": [
       "       SeniorCitizen       tenure  MonthlyCharges\n",
       "count    7043.000000  7043.000000     7043.000000\n",
       "mean        0.162147    32.371149       64.761692\n",
       "std         0.368612    24.559481       30.090047\n",
       "min         0.000000     0.000000       18.250000\n",
       "25%         0.000000     9.000000       35.500000\n",
       "50%         0.000000    29.000000       70.350000\n",
       "75%         0.000000    55.000000       89.850000\n",
       "max         1.000000    72.000000      118.750000"
      ]
     },
     "execution_count": 5,
     "metadata": {},
     "output_type": "execute_result"
    }
   ],
   "source": [
    "data.describe()"
   ]
  },
  {
   "cell_type": "code",
   "execution_count": 14,
   "id": "4838c550",
   "metadata": {},
   "outputs": [
    {
     "data": {
      "text/plain": [
       "customerID          0\n",
       "gender              0\n",
       "SeniorCitizen       0\n",
       "Partner             0\n",
       "Dependents          0\n",
       "tenure              0\n",
       "PhoneService        0\n",
       "MultipleLines       0\n",
       "InternetService     0\n",
       "OnlineSecurity      0\n",
       "OnlineBackup        0\n",
       "DeviceProtection    0\n",
       "TechSupport         0\n",
       "StreamingTV         0\n",
       "StreamingMovies     0\n",
       "Contract            0\n",
       "PaperlessBilling    0\n",
       "PaymentMethod       0\n",
       "MonthlyCharges      0\n",
       "TotalCharges        0\n",
       "Churn               0\n",
       "dtype: int64"
      ]
     },
     "execution_count": 14,
     "metadata": {},
     "output_type": "execute_result"
    }
   ],
   "source": [
    "data.isnull().sum()"
   ]
  },
  {
   "cell_type": "code",
   "execution_count": 4,
   "id": "77461ea8",
   "metadata": {},
   "outputs": [
    {
     "data": {
      "text/plain": [
       "32.37"
      ]
     },
     "execution_count": 4,
     "metadata": {},
     "output_type": "execute_result"
    }
   ],
   "source": [
    "#average tenure\n",
    "round(data.loc[:,'tenure'].mean(),2)"
   ]
  },
  {
   "cell_type": "code",
   "execution_count": 12,
   "id": "b25f4103",
   "metadata": {},
   "outputs": [
    {
     "data": {
      "text/plain": [
       "17.98"
      ]
     },
     "execution_count": 12,
     "metadata": {},
     "output_type": "execute_result"
    }
   ],
   "source": [
    "# average tenure for non-churn customers\n",
    "round(data.loc[data['Churn'] == 'Yes', 'tenure'].mean(),2)"
   ]
  },
  {
   "cell_type": "code",
   "execution_count": 13,
   "id": "07c24178",
   "metadata": {},
   "outputs": [
    {
     "data": {
      "text/plain": [
       "37.57"
      ]
     },
     "execution_count": 13,
     "metadata": {},
     "output_type": "execute_result"
    }
   ],
   "source": [
    "# average tenure for churned customers\n",
    "round(data.loc[data['Churn'] == 'No', 'tenure'].mean(),2)"
   ]
  },
  {
   "cell_type": "code",
   "execution_count": 9,
   "id": "4291d69c",
   "metadata": {},
   "outputs": [
    {
     "data": {
      "text/plain": [
       "['Solarize_Light2',\n",
       " '_classic_test_patch',\n",
       " '_mpl-gallery',\n",
       " '_mpl-gallery-nogrid',\n",
       " 'bmh',\n",
       " 'classic',\n",
       " 'dark_background',\n",
       " 'fast',\n",
       " 'fivethirtyeight',\n",
       " 'ggplot',\n",
       " 'grayscale',\n",
       " 'seaborn',\n",
       " 'seaborn-bright',\n",
       " 'seaborn-colorblind',\n",
       " 'seaborn-dark',\n",
       " 'seaborn-dark-palette',\n",
       " 'seaborn-darkgrid',\n",
       " 'seaborn-deep',\n",
       " 'seaborn-muted',\n",
       " 'seaborn-notebook',\n",
       " 'seaborn-paper',\n",
       " 'seaborn-pastel',\n",
       " 'seaborn-poster',\n",
       " 'seaborn-talk',\n",
       " 'seaborn-ticks',\n",
       " 'seaborn-white',\n",
       " 'seaborn-whitegrid',\n",
       " 'tableau-colorblind10']"
      ]
     },
     "execution_count": 9,
     "metadata": {},
     "output_type": "execute_result"
    }
   ],
   "source": [
    "import matplotlib.style\n",
    "matplotlib.style.available"
   ]
  },
  {
   "cell_type": "code",
   "execution_count": 17,
   "id": "cd4c029c",
   "metadata": {},
   "outputs": [],
   "source": [
    "from sklearn.linear_model import LogisticRegression\n",
    "from sklearn.metrics import accuracy_score, classification_report\n",
    "from sklearn.model_selection import train_test_split"
   ]
  },
  {
   "cell_type": "code",
   "execution_count": null,
   "id": "7cb58395",
   "metadata": {},
   "outputs": [],
   "source": []
  },
  {
   "cell_type": "code",
   "execution_count": null,
   "id": "730bdbd9",
   "metadata": {},
   "outputs": [],
   "source": []
  },
  {
   "cell_type": "markdown",
   "id": "108d6467",
   "metadata": {},
   "source": [
    "# Logistic regression1"
   ]
  },
  {
   "cell_type": "code",
   "execution_count": 15,
   "id": "827428d8",
   "metadata": {},
   "outputs": [
    {
     "data": {
      "text/html": [
       "<div>\n",
       "<style scoped>\n",
       "    .dataframe tbody tr th:only-of-type {\n",
       "        vertical-align: middle;\n",
       "    }\n",
       "\n",
       "    .dataframe tbody tr th {\n",
       "        vertical-align: top;\n",
       "    }\n",
       "\n",
       "    .dataframe thead th {\n",
       "        text-align: right;\n",
       "    }\n",
       "</style>\n",
       "<table border=\"1\" class=\"dataframe\">\n",
       "  <thead>\n",
       "    <tr style=\"text-align: right;\">\n",
       "      <th></th>\n",
       "      <th>SeniorCitizen</th>\n",
       "      <th>tenure</th>\n",
       "      <th>gender_Female</th>\n",
       "      <th>gender_Male</th>\n",
       "      <th>Partner_No</th>\n",
       "      <th>Partner_Yes</th>\n",
       "      <th>Dependents_No</th>\n",
       "      <th>Dependents_Yes</th>\n",
       "      <th>MultipleLines_No</th>\n",
       "      <th>MultipleLines_No phone service</th>\n",
       "      <th>...</th>\n",
       "      <th>StreamingMovies_Yes</th>\n",
       "      <th>Contract_Month-to-month</th>\n",
       "      <th>Contract_One year</th>\n",
       "      <th>Contract_Two year</th>\n",
       "      <th>PaperlessBilling_No</th>\n",
       "      <th>PaperlessBilling_Yes</th>\n",
       "      <th>PaymentMethod_Bank transfer (automatic)</th>\n",
       "      <th>PaymentMethod_Credit card (automatic)</th>\n",
       "      <th>PaymentMethod_Electronic check</th>\n",
       "      <th>PaymentMethod_Mailed check</th>\n",
       "    </tr>\n",
       "  </thead>\n",
       "  <tbody>\n",
       "    <tr>\n",
       "      <th>0</th>\n",
       "      <td>0</td>\n",
       "      <td>1</td>\n",
       "      <td>1</td>\n",
       "      <td>0</td>\n",
       "      <td>0</td>\n",
       "      <td>1</td>\n",
       "      <td>1</td>\n",
       "      <td>0</td>\n",
       "      <td>0</td>\n",
       "      <td>1</td>\n",
       "      <td>...</td>\n",
       "      <td>0</td>\n",
       "      <td>1</td>\n",
       "      <td>0</td>\n",
       "      <td>0</td>\n",
       "      <td>0</td>\n",
       "      <td>1</td>\n",
       "      <td>0</td>\n",
       "      <td>0</td>\n",
       "      <td>1</td>\n",
       "      <td>0</td>\n",
       "    </tr>\n",
       "    <tr>\n",
       "      <th>1</th>\n",
       "      <td>0</td>\n",
       "      <td>34</td>\n",
       "      <td>0</td>\n",
       "      <td>1</td>\n",
       "      <td>1</td>\n",
       "      <td>0</td>\n",
       "      <td>1</td>\n",
       "      <td>0</td>\n",
       "      <td>1</td>\n",
       "      <td>0</td>\n",
       "      <td>...</td>\n",
       "      <td>0</td>\n",
       "      <td>0</td>\n",
       "      <td>1</td>\n",
       "      <td>0</td>\n",
       "      <td>1</td>\n",
       "      <td>0</td>\n",
       "      <td>0</td>\n",
       "      <td>0</td>\n",
       "      <td>0</td>\n",
       "      <td>1</td>\n",
       "    </tr>\n",
       "    <tr>\n",
       "      <th>2</th>\n",
       "      <td>0</td>\n",
       "      <td>2</td>\n",
       "      <td>0</td>\n",
       "      <td>1</td>\n",
       "      <td>1</td>\n",
       "      <td>0</td>\n",
       "      <td>1</td>\n",
       "      <td>0</td>\n",
       "      <td>1</td>\n",
       "      <td>0</td>\n",
       "      <td>...</td>\n",
       "      <td>0</td>\n",
       "      <td>1</td>\n",
       "      <td>0</td>\n",
       "      <td>0</td>\n",
       "      <td>0</td>\n",
       "      <td>1</td>\n",
       "      <td>0</td>\n",
       "      <td>0</td>\n",
       "      <td>0</td>\n",
       "      <td>1</td>\n",
       "    </tr>\n",
       "    <tr>\n",
       "      <th>3</th>\n",
       "      <td>0</td>\n",
       "      <td>45</td>\n",
       "      <td>0</td>\n",
       "      <td>1</td>\n",
       "      <td>1</td>\n",
       "      <td>0</td>\n",
       "      <td>1</td>\n",
       "      <td>0</td>\n",
       "      <td>0</td>\n",
       "      <td>1</td>\n",
       "      <td>...</td>\n",
       "      <td>0</td>\n",
       "      <td>0</td>\n",
       "      <td>1</td>\n",
       "      <td>0</td>\n",
       "      <td>1</td>\n",
       "      <td>0</td>\n",
       "      <td>1</td>\n",
       "      <td>0</td>\n",
       "      <td>0</td>\n",
       "      <td>0</td>\n",
       "    </tr>\n",
       "    <tr>\n",
       "      <th>4</th>\n",
       "      <td>0</td>\n",
       "      <td>2</td>\n",
       "      <td>1</td>\n",
       "      <td>0</td>\n",
       "      <td>1</td>\n",
       "      <td>0</td>\n",
       "      <td>1</td>\n",
       "      <td>0</td>\n",
       "      <td>1</td>\n",
       "      <td>0</td>\n",
       "      <td>...</td>\n",
       "      <td>0</td>\n",
       "      <td>1</td>\n",
       "      <td>0</td>\n",
       "      <td>0</td>\n",
       "      <td>0</td>\n",
       "      <td>1</td>\n",
       "      <td>0</td>\n",
       "      <td>0</td>\n",
       "      <td>1</td>\n",
       "      <td>0</td>\n",
       "    </tr>\n",
       "  </tbody>\n",
       "</table>\n",
       "<p>5 rows × 41 columns</p>\n",
       "</div>"
      ],
      "text/plain": [
       "   SeniorCitizen  tenure  gender_Female  gender_Male  Partner_No  Partner_Yes  \\\n",
       "0              0       1              1            0           0            1   \n",
       "1              0      34              0            1           1            0   \n",
       "2              0       2              0            1           1            0   \n",
       "3              0      45              0            1           1            0   \n",
       "4              0       2              1            0           1            0   \n",
       "\n",
       "   Dependents_No  Dependents_Yes  MultipleLines_No  \\\n",
       "0              1               0                 0   \n",
       "1              1               0                 1   \n",
       "2              1               0                 1   \n",
       "3              1               0                 0   \n",
       "4              1               0                 1   \n",
       "\n",
       "   MultipleLines_No phone service  ...  StreamingMovies_Yes  \\\n",
       "0                               1  ...                    0   \n",
       "1                               0  ...                    0   \n",
       "2                               0  ...                    0   \n",
       "3                               1  ...                    0   \n",
       "4                               0  ...                    0   \n",
       "\n",
       "   Contract_Month-to-month  Contract_One year  Contract_Two year  \\\n",
       "0                        1                  0                  0   \n",
       "1                        0                  1                  0   \n",
       "2                        1                  0                  0   \n",
       "3                        0                  1                  0   \n",
       "4                        1                  0                  0   \n",
       "\n",
       "   PaperlessBilling_No  PaperlessBilling_Yes  \\\n",
       "0                    0                     1   \n",
       "1                    1                     0   \n",
       "2                    0                     1   \n",
       "3                    1                     0   \n",
       "4                    0                     1   \n",
       "\n",
       "   PaymentMethod_Bank transfer (automatic)  \\\n",
       "0                                        0   \n",
       "1                                        0   \n",
       "2                                        0   \n",
       "3                                        1   \n",
       "4                                        0   \n",
       "\n",
       "   PaymentMethod_Credit card (automatic)  PaymentMethod_Electronic check  \\\n",
       "0                                      0                               1   \n",
       "1                                      0                               0   \n",
       "2                                      0                               0   \n",
       "3                                      0                               0   \n",
       "4                                      0                               1   \n",
       "\n",
       "   PaymentMethod_Mailed check  \n",
       "0                           0  \n",
       "1                           1  \n",
       "2                           1  \n",
       "3                           0  \n",
       "4                           0  \n",
       "\n",
       "[5 rows x 41 columns]"
      ]
     },
     "execution_count": 15,
     "metadata": {},
     "output_type": "execute_result"
    }
   ],
   "source": [
    "X = data[['SeniorCitizen','tenure','gender','Partner','Dependents','MultipleLines','InternetService',\n",
    "          'OnlineSecurity','OnlineBackup','DeviceProtection','TechSupport','StreamingTV',\n",
    "          'StreamingMovies','Contract','PaperlessBilling','PaymentMethod']]\n",
    "\n",
    "y =  data[['Churn']]\n",
    "\n",
    "X = pd.get_dummies(X, columns = ['gender','Partner','Dependents','MultipleLines','InternetService',\n",
    "          'OnlineSecurity','OnlineBackup','DeviceProtection','TechSupport','StreamingTV',\n",
    "          'StreamingMovies','Contract','PaperlessBilling','PaymentMethod'])\n",
    "\n",
    "X.head(5)"
   ]
  },
  {
   "cell_type": "code",
   "execution_count": 18,
   "id": "ab20e13a",
   "metadata": {},
   "outputs": [
    {
     "name": "stdout",
     "output_type": "stream",
     "text": [
      "SeniorCitizen: 0.16130830613145875\n",
      "tenure: -0.032862629352142465\n",
      "gender_Female: -0.05643024814183436\n",
      "gender_Male: -0.10804079890113111\n",
      "Partner_No: -0.11022057880892898\n",
      "Partner_Yes: -0.05425046823403596\n",
      "Dependents_No: 0.004502811034152063\n",
      "Dependents_Yes: -0.16897385807711587\n",
      "MultipleLines_No: -0.32270185636529386\n",
      "MultipleLines_No phone service: 0.19376635598272318\n",
      "MultipleLines_Yes: -0.035535546660394\n",
      "InternetService_DSL: -0.4392828897963065\n",
      "InternetService_Fiber optic: 0.43178971554126677\n",
      "InternetService_No: -0.15697787278792852\n",
      "OnlineSecurity_No: 0.20313191399267436\n",
      "OnlineSecurity_No internet service: -0.15697787278792852\n",
      "OnlineSecurity_Yes: -0.21062508824770887\n",
      "OnlineBackup_No: 0.06653398346138101\n",
      "OnlineBackup_No internet service: -0.15697787278792852\n",
      "OnlineBackup_Yes: -0.07402715771641522\n",
      "DeviceProtection_No: -0.006628373797748054\n",
      "DeviceProtection_No internet service: -0.15697787278792852\n",
      "DeviceProtection_Yes: -0.0008648004572862238\n",
      "TechSupport_No: 0.16041394771656564\n",
      "TechSupport_No internet service: -0.15697787278792852\n",
      "TechSupport_Yes: -0.1679071219715994\n",
      "StreamingTV_No: -0.11909091507013402\n",
      "StreamingTV_No internet service: -0.15697787278792852\n",
      "StreamingTV_Yes: 0.1115977408151015\n",
      "StreamingMovies_No: -0.17224157399529513\n",
      "StreamingMovies_No internet service: -0.15697787278792852\n",
      "StreamingMovies_Yes: 0.1647483997402597\n",
      "Contract_Month-to-month: 0.6280395984549494\n",
      "Contract_One year: -0.021254713968471978\n",
      "Contract_Two year: -0.7712559315294466\n",
      "PaperlessBilling_No: -0.24786056763474953\n",
      "PaperlessBilling_Yes: 0.0833895205917814\n",
      "PaymentMethod_Bank transfer (automatic): -0.10414173540280457\n",
      "PaymentMethod_Credit card (automatic): -0.1907799691504978\n",
      "PaymentMethod_Electronic check: 0.2231774778886887\n",
      "PaymentMethod_Mailed check: -0.09272682037835019\n"
     ]
    },
    {
     "name": "stderr",
     "output_type": "stream",
     "text": [
      "C:\\Users\\yusuk\\anaconda3\\lib\\site-packages\\sklearn\\utils\\validation.py:993: DataConversionWarning: A column-vector y was passed when a 1d array was expected. Please change the shape of y to (n_samples, ), for example using ravel().\n",
      "  y = column_or_1d(y, warn=True)\n"
     ]
    }
   ],
   "source": [
    "# Split the data into a training set and a test set\n",
    "X_train, X_test, y_train, y_test = train_test_split(X, y, test_size=0.2, random_state=42)\n",
    "\n",
    "# Instantiate a logistic regression model\n",
    "model = LogisticRegression()\n",
    "\n",
    "# Train the model\n",
    "model.fit(X_train, y_train)\n",
    "\n",
    "# Get the coefficients for each explanatory variable\n",
    "coefficients = model.coef_[0]\n",
    "\n",
    "# Display each explanatory variable and its coefficient\n",
    "for feature, coef in zip(X_train.columns, coefficients):\n",
    "    print(f'{feature}: {coef}')"
   ]
  },
  {
   "cell_type": "code",
   "execution_count": 19,
   "id": "f39b503c",
   "metadata": {},
   "outputs": [
    {
     "name": "stdout",
     "output_type": "stream",
     "text": [
      "Accuracy: 0.8211497515968772\n",
      "              precision    recall  f1-score   support\n",
      "\n",
      "          No       0.86      0.91      0.88      1036\n",
      "         Yes       0.69      0.58      0.63       373\n",
      "\n",
      "    accuracy                           0.82      1409\n",
      "   macro avg       0.78      0.75      0.76      1409\n",
      "weighted avg       0.81      0.82      0.82      1409\n",
      "\n"
     ]
    }
   ],
   "source": [
    "# Predict on the test data\n",
    "y_pred = model.predict(X_test)\n",
    "\n",
    "# Evaluate accuracy\n",
    "accuracy = accuracy_score(y_test, y_pred)\n",
    "print(f'Accuracy: {accuracy}')\n",
    "\n",
    "# Display evaluation metrics for each class\n",
    "report = classification_report(y_test, y_pred)\n",
    "print(report)"
   ]
  },
  {
   "cell_type": "code",
   "execution_count": null,
   "id": "09143fa8",
   "metadata": {},
   "outputs": [],
   "source": []
  },
  {
   "cell_type": "code",
   "execution_count": null,
   "id": "3a8fb45f",
   "metadata": {},
   "outputs": [],
   "source": []
  },
  {
   "cell_type": "markdown",
   "id": "d05153b9",
   "metadata": {},
   "source": [
    "# Logistics Regression2 with standardization"
   ]
  },
  {
   "cell_type": "code",
   "execution_count": 20,
   "id": "9f659d6a",
   "metadata": {},
   "outputs": [
    {
     "data": {
      "text/plain": [
       "array([[-0.4377492 , -0.46568336,  1.02516569, ..., -0.52765585,\n",
       "        -0.70964983,  1.84247002],\n",
       "       [-0.4377492 ,  0.88553679,  1.02516569, ..., -0.52765585,\n",
       "        -0.70964983, -0.54274967],\n",
       "       [-0.4377492 , -1.28460467, -0.97545208, ..., -0.52765585,\n",
       "         1.40914569, -0.54274967],\n",
       "       ...,\n",
       "       [-0.4377492 , -0.83419795, -0.97545208, ..., -0.52765585,\n",
       "         1.40914569, -0.54274967],\n",
       "       [ 2.28441306, -0.83419795, -0.97545208, ..., -0.52765585,\n",
       "         1.40914569, -0.54274967],\n",
       "       [-0.4377492 , -0.26095304, -0.97545208, ...,  1.89517467,\n",
       "        -0.70964983, -0.54274967]])"
      ]
     },
     "execution_count": 20,
     "metadata": {},
     "output_type": "execute_result"
    }
   ],
   "source": [
    "X_train, X_test, y_train, y_test = train_test_split(X, y, test_size=0.2, random_state=42)\n",
    "\n",
    "from sklearn.preprocessing import StandardScaler\n",
    "\n",
    "scaler = StandardScaler()\n",
    "scaler.fit(X_train)\n",
    "\n",
    "X_train_scaled = scaler.transform(X_train)\n",
    "X_test_scaled = scaler.transform(X_test)\n",
    "\n",
    "X_train_scaled"
   ]
  },
  {
   "cell_type": "code",
   "execution_count": 9,
   "id": "973c58bb",
   "metadata": {},
   "outputs": [
    {
     "name": "stdout",
     "output_type": "stream",
     "text": [
      "SeniorCitizen: 0.059172709771479495\n",
      "tenure: -0.7972658409841031\n",
      "gender_Female: 0.012948513762738551\n",
      "gender_Male: -0.012948513762738765\n",
      "Partner_No: -0.013775173404453459\n",
      "Partner_Yes: 0.013775173404453516\n",
      "Dependents_No: 0.03955922248375553\n",
      "Dependents_Yes: -0.039559222483755666\n",
      "MultipleLines_No: -0.09925271228482362\n",
      "MultipleLines_No phone service: 0.09562431836926674\n",
      "MultipleLines_Yes: 0.04276673303473223\n",
      "InternetService_DSL: -0.196347603092788\n",
      "InternetService_Fiber optic: 0.2282486140836151\n",
      "InternetService_No: -0.04870710382105402\n",
      "OnlineSecurity_No: 0.11529997729160117\n",
      "OnlineSecurity_No internet service: -0.04870710382105402\n",
      "OnlineSecurity_Yes: -0.08327924471742715\n",
      "OnlineBackup_No: 0.05476280330855407\n",
      "OnlineBackup_No internet service: -0.04870710382105402\n",
      "OnlineBackup_Yes: -0.014926130275759302\n",
      "DeviceProtection_No: 0.019740318971837596\n",
      "DeviceProtection_No internet service: -0.04870710382105402\n",
      "DeviceProtection_Yes: 0.021539199119253047\n",
      "TechSupport_No: 0.09600491686482454\n",
      "TechSupport_No internet service: -0.04870710382105402\n",
      "TechSupport_Yes: -0.061704209987092036\n",
      "StreamingTV_No: -0.035578983052973585\n",
      "StreamingTV_No internet service: -0.04870710382105402\n",
      "StreamingTV_Yes: 0.07685863074423689\n",
      "StreamingMovies_No: -0.06169469124046123\n",
      "StreamingMovies_No internet service: -0.04870710382105402\n",
      "StreamingMovies_Yes: 0.10288246480734885\n",
      "Contract_Month-to-month: 0.3065270500526076\n",
      "Contract_One year: -0.015540040646950347\n",
      "Contract_Two year: -0.34345681776626097\n",
      "PaperlessBilling_No: -0.08140915256847245\n",
      "PaperlessBilling_Yes: 0.08140915256847245\n",
      "PaymentMethod_Bank transfer (automatic): -0.03398265556436243\n",
      "PaymentMethod_Credit card (automatic): -0.0698729473624552\n",
      "PaymentMethod_Electronic check: 0.11628365254446071\n",
      "PaymentMethod_Mailed check: -0.028554472071929016\n"
     ]
    },
    {
     "name": "stderr",
     "output_type": "stream",
     "text": [
      "C:\\Users\\yusuk\\anaconda3\\lib\\site-packages\\sklearn\\utils\\validation.py:993: DataConversionWarning: A column-vector y was passed when a 1d array was expected. Please change the shape of y to (n_samples, ), for example using ravel().\n",
      "  y = column_or_1d(y, warn=True)\n"
     ]
    }
   ],
   "source": [
    "# ロジスティック回帰モデルをインスタンス化\n",
    "model = LogisticRegression()\n",
    "\n",
    "# モデルをトレーニング\n",
    "model.fit(X_train_scaled, y_train)\n",
    "\n",
    "# 各説明変数の係数を取得\n",
    "coefficients = model.coef_[0]\n",
    "\n",
    "# 各説明変数とその係数を表示\n",
    "for feature, coef in zip(X_train.columns, coefficients):\n",
    "    print(f'{feature}: {coef}')"
   ]
  },
  {
   "cell_type": "code",
   "execution_count": 10,
   "id": "4db22686",
   "metadata": {},
   "outputs": [
    {
     "name": "stdout",
     "output_type": "stream",
     "text": [
      "accuracy: 0.8204400283889283\n",
      "The confusion matrix:\n",
      "[[938  98]\n",
      " [155 218]]\n",
      "The evaluation metrics by class:\n",
      "              precision    recall  f1-score   support\n",
      "\n",
      "          No       0.86      0.91      0.88      1036\n",
      "         Yes       0.69      0.58      0.63       373\n",
      "\n",
      "    accuracy                           0.82      1409\n",
      "   macro avg       0.77      0.74      0.76      1409\n",
      "weighted avg       0.81      0.82      0.82      1409\n",
      "\n"
     ]
    }
   ],
   "source": [
    "from sklearn.metrics import accuracy_score, confusion_matrix, classification_report\n",
    "\n",
    "# Predict the test data\n",
    "y_pred = model.predict(X_test_scaled)\n",
    "\n",
    "# Calculate the accuracy\n",
    "accuracy = accuracy_score(y_test, y_pred)\n",
    "print(f'accuracy: {accuracy}')\n",
    "\n",
    "# Calculate the confusion matrix\n",
    "confusion = confusion_matrix(y_test, y_pred)\n",
    "print(\"The confusion matrix:\")\n",
    "print(confusion)\n",
    "\n",
    "# Display the evaluation metrics by class\n",
    "report = classification_report(y_test, y_pred)\n",
    "print(\"The evaluation metrics by class:\")\n",
    "print(report)"
   ]
  },
  {
   "cell_type": "markdown",
   "id": "e4bb747f",
   "metadata": {},
   "source": []
  },
  {
   "cell_type": "code",
   "execution_count": null,
   "id": "91fb361b",
   "metadata": {},
   "outputs": [],
   "source": []
  },
  {
   "cell_type": "markdown",
   "id": "37d472c9",
   "metadata": {},
   "source": [
    "# 3 with MonthlyCharges(0.8218)"
   ]
  },
  {
   "cell_type": "code",
   "execution_count": 11,
   "id": "9f968a50",
   "metadata": {},
   "outputs": [],
   "source": [
    "data['MonthlyCharges'] = data['MonthlyCharges'].round().astype('int64')"
   ]
  },
  {
   "cell_type": "code",
   "execution_count": 12,
   "id": "f137d6e9",
   "metadata": {},
   "outputs": [],
   "source": [
    "X = data[['SeniorCitizen','tenure','gender','Partner','Dependents','MultipleLines','InternetService',\n",
    "          'OnlineSecurity','OnlineBackup','DeviceProtection','TechSupport','StreamingTV',\n",
    "          'StreamingMovies','Contract','PaperlessBilling','PaymentMethod','MonthlyCharges']]\n",
    "\n",
    "y =  data[['Churn']]\n",
    "\n",
    "categorical_cols = ['gender','Partner','Dependents','MultipleLines','InternetService',\n",
    "          'OnlineSecurity','OnlineBackup','DeviceProtection','TechSupport','StreamingTV',\n",
    "          'StreamingMovies','Contract','PaperlessBilling','PaymentMethod']\n",
    "\n",
    "New_X = pd.get_dummies(X, columns=categorical_cols, drop_first=True)\n"
   ]
  },
  {
   "cell_type": "code",
   "execution_count": 13,
   "id": "b1fd3b0f",
   "metadata": {},
   "outputs": [
    {
     "name": "stderr",
     "output_type": "stream",
     "text": [
      "C:\\Users\\yusuk\\anaconda3\\lib\\site-packages\\sklearn\\utils\\validation.py:993: DataConversionWarning: A column-vector y was passed when a 1d array was expected. Please change the shape of y to (n_samples, ), for example using ravel().\n",
      "  y = column_or_1d(y, warn=True)\n"
     ]
    },
    {
     "name": "stdout",
     "output_type": "stream",
     "text": [
      "SeniorCitizen: 0.21933067568311476\n",
      "tenure: -0.03452805605117316\n",
      "MonthlyCharges: -0.004197399365329193\n",
      "gender_Male: -0.023324652435552845\n",
      "Partner_Yes: -0.013586428386667411\n",
      "Dependents_Yes: -0.1743649748895735\n",
      "MultipleLines_No phone service: 0.4172752626119415\n",
      "MultipleLines_Yes: 0.31993458238777905\n",
      "InternetService_Fiber optic: 1.0132810012785185\n",
      "InternetService_No: -0.13047972834846253\n",
      "OnlineSecurity_No internet service: -0.13047972834846253\n",
      "OnlineSecurity_Yes: -0.3356294515823746\n",
      "OnlineBackup_No internet service: -0.13047972834846253\n",
      "OnlineBackup_Yes: -0.08644036216113328\n",
      "DeviceProtection_No internet service: -0.13047972834846253\n",
      "DeviceProtection_Yes: 0.01829984092556252\n",
      "TechSupport_No internet service: -0.13047972834846253\n",
      "TechSupport_Yes: -0.3044045653898293\n",
      "StreamingTV_No internet service: -0.13047972834846253\n",
      "StreamingTV_Yes: 0.3059205853297012\n",
      "StreamingMovies_No internet service: -0.13047972834846253\n",
      "StreamingMovies_Yes: 0.3188495473022097\n",
      "Contract_One year: -0.6419780662559242\n",
      "Contract_Two year: -1.304458235498765\n",
      "PaperlessBilling_Yes: 0.33967379173268614\n",
      "PaymentMethod_Credit card (automatic): -0.08494452641064328\n",
      "PaymentMethod_Electronic check: 0.313872190313206\n",
      "PaymentMethod_Mailed check: -0.007136758875605991\n"
     ]
    },
    {
     "name": "stderr",
     "output_type": "stream",
     "text": [
      "C:\\Users\\yusuk\\anaconda3\\lib\\site-packages\\sklearn\\linear_model\\_logistic.py:814: ConvergenceWarning: lbfgs failed to converge (status=1):\n",
      "STOP: TOTAL NO. of ITERATIONS REACHED LIMIT.\n",
      "\n",
      "Increase the number of iterations (max_iter) or scale the data as shown in:\n",
      "    https://scikit-learn.org/stable/modules/preprocessing.html\n",
      "Please also refer to the documentation for alternative solver options:\n",
      "    https://scikit-learn.org/stable/modules/linear_model.html#logistic-regression\n",
      "  n_iter_i = _check_optimize_result(\n"
     ]
    }
   ],
   "source": [
    "# データをトレーニングセットとテストセットに分割\n",
    "X_train, X_test, y_train, y_test = train_test_split(New_X, y, test_size=0.2, random_state=42)\n",
    "\n",
    "# ロジスティック回帰モデルをインスタンス化\n",
    "model = LogisticRegression()\n",
    "\n",
    "# モデルをトレーニング\n",
    "model.fit(New_X, y)\n",
    "\n",
    "# 各説明変数の係数を取得\n",
    "coefficients = model.coef_[0]\n",
    "\n",
    "# 各説明変数とその係数を表示\n",
    "for feature, coef in zip(X_train.columns, coefficients):\n",
    "    print(f'{feature}: {coef}')"
   ]
  },
  {
   "cell_type": "code",
   "execution_count": 14,
   "id": "19e1d080",
   "metadata": {},
   "outputs": [
    {
     "name": "stdout",
     "output_type": "stream",
     "text": [
      "精度: 0.8218594748048261\n",
      "混同行列:\n",
      "[[938  98]\n",
      " [153 220]]\n",
      "クラスごとの評価メトリクス:\n",
      "              precision    recall  f1-score   support\n",
      "\n",
      "          No       0.86      0.91      0.88      1036\n",
      "         Yes       0.69      0.59      0.64       373\n",
      "\n",
      "    accuracy                           0.82      1409\n",
      "   macro avg       0.78      0.75      0.76      1409\n",
      "weighted avg       0.82      0.82      0.82      1409\n",
      "\n"
     ]
    }
   ],
   "source": [
    "from sklearn.metrics import accuracy_score, confusion_matrix, classification_report\n",
    "\n",
    "# テストデータを予測\n",
    "y_pred = model.predict(X_test)\n",
    "\n",
    "# 精度を計算\n",
    "accuracy = accuracy_score(y_test, y_pred)\n",
    "print(f'精度: {accuracy}')\n",
    "\n",
    "# 混同行列を計算\n",
    "confusion = confusion_matrix(y_test, y_pred)\n",
    "print(\"混同行列:\")\n",
    "print(confusion)\n",
    "\n",
    "# クラスごとの評価メトリクスを表示\n",
    "report = classification_report(y_test, y_pred)\n",
    "print(\"クラスごとの評価メトリクス:\")\n",
    "print(report)"
   ]
  },
  {
   "cell_type": "raw",
   "id": "ff032733",
   "metadata": {},
   "source": [
    "After conducting the three logistic regressions mentioned above, it was determined that the initial simple attempt yielded the highest accuracy. Taking this into consideration, we will now utilize the dataset that was used in the first logistic regression to explore alternative methods."
   ]
  },
  {
   "cell_type": "code",
   "execution_count": null,
   "id": "9623b0a3",
   "metadata": {},
   "outputs": [],
   "source": []
  },
  {
   "cell_type": "code",
   "execution_count": null,
   "id": "fdbbb048",
   "metadata": {},
   "outputs": [],
   "source": []
  },
  {
   "cell_type": "markdown",
   "id": "2cb17a3b",
   "metadata": {},
   "source": [
    "# k-Nearest Neighbor: kNN（0.763）"
   ]
  },
  {
   "cell_type": "code",
   "execution_count": 15,
   "id": "522cac59",
   "metadata": {},
   "outputs": [],
   "source": [
    "X = data[['SeniorCitizen','tenure','gender','Partner','Dependents','MultipleLines','InternetService',\n",
    "          'OnlineSecurity','OnlineBackup','DeviceProtection','TechSupport','StreamingTV',\n",
    "          'StreamingMovies','Contract','PaperlessBilling','PaymentMethod']]\n",
    "\n",
    "y =  data[['Churn']]\n",
    "\n",
    "X = pd.get_dummies(X, columns = ['gender','Partner','Dependents','MultipleLines','InternetService',\n",
    "          'OnlineSecurity','OnlineBackup','DeviceProtection','TechSupport','StreamingTV',\n",
    "          'StreamingMovies','Contract','PaperlessBilling','PaymentMethod'])"
   ]
  },
  {
   "cell_type": "code",
   "execution_count": 16,
   "id": "cdd3bdad",
   "metadata": {},
   "outputs": [],
   "source": [
    "# データをトレーニングセットとテストセットに分割\n",
    "X_train, X_test, y_train, y_test = train_test_split(X, y, test_size=0.2, random_state=42)"
   ]
  },
  {
   "cell_type": "code",
   "execution_count": 17,
   "id": "bc2ac2c5",
   "metadata": {},
   "outputs": [
    {
     "name": "stderr",
     "output_type": "stream",
     "text": [
      "C:\\Users\\yusuk\\anaconda3\\lib\\site-packages\\sklearn\\neighbors\\_classification.py:198: DataConversionWarning: A column-vector y was passed when a 1d array was expected. Please change the shape of y to (n_samples,), for example using ravel().\n",
      "  return self._fit(X, y)\n"
     ]
    },
    {
     "data": {
      "text/plain": [
       "0.7636621717530163"
      ]
     },
     "execution_count": 17,
     "metadata": {},
     "output_type": "execute_result"
    }
   ],
   "source": [
    "from sklearn.neighbors import KNeighborsClassifier\n",
    "from sklearn.preprocessing import StandardScaler\n",
    "\n",
    "scaler = StandardScaler()\n",
    "scaler.fit(X_train)\n",
    "\n",
    "X_train_scaled = scaler.transform(X_train)\n",
    "X_test_scaled = scaler.transform(X_test)\n",
    "\n",
    "knn = KNeighborsClassifier()\n",
    "knn.fit(X_train_scaled, y_train)\n",
    "\n",
    "knn.score(X_test_scaled, y_test)\n"
   ]
  },
  {
   "cell_type": "code",
   "execution_count": null,
   "id": "fb92e561",
   "metadata": {},
   "outputs": [],
   "source": []
  },
  {
   "cell_type": "code",
   "execution_count": null,
   "id": "4c340edc",
   "metadata": {},
   "outputs": [],
   "source": []
  },
  {
   "cell_type": "markdown",
   "id": "7688aa0d",
   "metadata": {},
   "source": [
    "# support-vector machine"
   ]
  },
  {
   "cell_type": "code",
   "execution_count": 18,
   "id": "c08c3f20",
   "metadata": {
    "scrolled": true
   },
   "outputs": [
    {
     "name": "stderr",
     "output_type": "stream",
     "text": [
      "C:\\Users\\yusuk\\anaconda3\\lib\\site-packages\\sklearn\\utils\\validation.py:993: DataConversionWarning: A column-vector y was passed when a 1d array was expected. Please change the shape of y to (n_samples, ), for example using ravel().\n",
      "  y = column_or_1d(y, warn=True)\n",
      "C:\\Users\\yusuk\\anaconda3\\lib\\site-packages\\sklearn\\svm\\_base.py:1206: ConvergenceWarning: Liblinear failed to converge, increase the number of iterations.\n",
      "  warnings.warn(\n"
     ]
    },
    {
     "data": {
      "text/plain": [
       "0.8176011355571328"
      ]
     },
     "execution_count": 18,
     "metadata": {},
     "output_type": "execute_result"
    }
   ],
   "source": [
    "from sklearn.svm import LinearSVC\n",
    "\n",
    "svc = LinearSVC()\n",
    "svc.fit(X_train_scaled, y_train)\n",
    "\n",
    "svc.score(X_test_scaled, y_test)"
   ]
  },
  {
   "cell_type": "code",
   "execution_count": null,
   "id": "97b95824",
   "metadata": {},
   "outputs": [],
   "source": []
  },
  {
   "cell_type": "code",
   "execution_count": null,
   "id": "71080fda",
   "metadata": {},
   "outputs": [],
   "source": []
  },
  {
   "cell_type": "markdown",
   "id": "57323c07",
   "metadata": {},
   "source": [
    "# Random Forest"
   ]
  },
  {
   "cell_type": "code",
   "execution_count": 19,
   "id": "c70a721f",
   "metadata": {},
   "outputs": [
    {
     "name": "stderr",
     "output_type": "stream",
     "text": [
      "C:\\Users\\yusuk\\AppData\\Local\\Temp\\ipykernel_6028\\1006217157.py:4: DataConversionWarning: A column-vector y was passed when a 1d array was expected. Please change the shape of y to (n_samples,), for example using ravel().\n",
      "  rf.fit(X_train_scaled, y_train)\n"
     ]
    },
    {
     "data": {
      "text/plain": [
       "0.7913413768630234"
      ]
     },
     "execution_count": 19,
     "metadata": {},
     "output_type": "execute_result"
    }
   ],
   "source": [
    "from sklearn.ensemble import RandomForestClassifier\n",
    "\n",
    "rf = RandomForestClassifier()\n",
    "rf.fit(X_train_scaled, y_train)\n",
    "rf.score(X_test_scaled, y_test)"
   ]
  },
  {
   "cell_type": "code",
   "execution_count": null,
   "id": "da679bf7",
   "metadata": {},
   "outputs": [],
   "source": []
  },
  {
   "cell_type": "code",
   "execution_count": null,
   "id": "d6628842",
   "metadata": {},
   "outputs": [],
   "source": []
  },
  {
   "cell_type": "markdown",
   "id": "6ec3346b",
   "metadata": {},
   "source": [
    "# Gradient Boosting"
   ]
  },
  {
   "cell_type": "code",
   "execution_count": 20,
   "id": "69ae84ba",
   "metadata": {},
   "outputs": [
    {
     "name": "stderr",
     "output_type": "stream",
     "text": [
      "C:\\Users\\yusuk\\AppData\\Local\\Temp\\ipykernel_6028\\2435558498.py:4: DataConversionWarning: A column-vector y was passed when a 1d array was expected. Please change the shape of y to (n_samples,), for example using ravel().\n",
      "  gbrt.fit(X_train_scaled, y_train)\n"
     ]
    },
    {
     "data": {
      "text/plain": [
       "0.7963094393186657"
      ]
     },
     "execution_count": 20,
     "metadata": {},
     "output_type": "execute_result"
    }
   ],
   "source": [
    "from sklearn.ensemble import GradientBoostingClassifier\n",
    "\n",
    "gbrt = RandomForestClassifier()\n",
    "gbrt.fit(X_train_scaled, y_train)\n",
    "gbrt.score(X_test_scaled, y_test)"
   ]
  },
  {
   "cell_type": "code",
   "execution_count": null,
   "id": "f21123fe",
   "metadata": {},
   "outputs": [],
   "source": []
  }
 ],
 "metadata": {
  "kernelspec": {
   "display_name": "Python 3 (ipykernel)",
   "language": "python",
   "name": "python3"
  },
  "language_info": {
   "codemirror_mode": {
    "name": "ipython",
    "version": 3
   },
   "file_extension": ".py",
   "mimetype": "text/x-python",
   "name": "python",
   "nbconvert_exporter": "python",
   "pygments_lexer": "ipython3",
   "version": "3.9.12"
  }
 },
 "nbformat": 4,
 "nbformat_minor": 5
}
